{
 "cells": [
  {
   "cell_type": "code",
   "execution_count": null,
   "metadata": {},
   "outputs": [],
   "source": [
    "from IPython.display import clear_output\n",
    "\n",
    "# Function to display a board\n",
    "def display_board(board):\n",
    "    clear_output() # Clean between moves\n",
    "    print(f\" {board[7]} | {board[8]} | {board[9]} \")\n",
    "    print(f\"----------- \")\n",
    "    print(f\" {board[4]} | {board[5]} | {board[6]} \")\n",
    "    print(f\"----------- \")\n",
    "    print(f\" {board[1]} | {board[2]} | {board[3]} \")"
   ]
  },
  {
   "cell_type": "code",
   "execution_count": null,
   "metadata": {},
   "outputs": [],
   "source": [
    "# The board list will always have 10 elements, because the numpad goes to 0-9 so the index[0] needs to have something\n",
    "test_board = ['0','X','O','X','O','X','O','X','O','X']\n",
    "display_board(test_board)"
   ]
  },
  {
   "cell_type": "code",
   "execution_count": null,
   "metadata": {},
   "outputs": [],
   "source": [
    "# Function that takes the first player input and assign a marker to 'X' or 'O'\n",
    "# The second player will get the opposite\n",
    "def player_input():\n",
    "    marker = ''\n",
    "    while marker != 'X' and marker != 'O':# Keeps askings until 'X' or 'O'\n",
    "        marker = input(\"Player 1, pick a marker 'X' or 'O': \").upper()# Expecting 'X' or 'O'\n",
    "    if marker == 'X':\n",
    "        return ('X','O')# Using a tuple to return both values\n",
    "    else:\n",
    "        return ('O','X')# Using a tuple to return both values"
   ]
  },
  {
   "cell_type": "code",
   "execution_count": null,
   "metadata": {},
   "outputs": [],
   "source": [
    "# Function that takes the board, a marker, a position then assign it to the board\n",
    "def place_marker(board, marker, position):\n",
    "    board[position] = marker"
   ]
  },
  {
   "cell_type": "code",
   "execution_count": null,
   "metadata": {},
   "outputs": [],
   "source": [
    "# Function to see which marker won\n",
    "# Test all the 8 combinations that leads to a win\n",
    "def win_check(board, mark):\n",
    "    if mark in board[1] and mark in board[2] and mark in board[3]:\n",
    "        return True\n",
    "    elif mark in board[4] and mark in board[5] and mark in board[6]:\n",
    "        return True\n",
    "    elif mark in board[7] and mark in board[8] and mark in board[9]:\n",
    "        return True\n",
    "    elif mark in board[1] and mark in board[4] and mark in board[7]:\n",
    "        return True\n",
    "    elif mark in board[2] and mark in board[5] and mark in board[6]:\n",
    "        return True\n",
    "    elif mark in board[3] and mark in board[6] and mark in board[9]:\n",
    "        return True\n",
    "    elif mark in board[1] and mark in board[5] and mark in board[9]:\n",
    "        return True\n",
    "    elif mark in board[3] and mark in board[5] and mark in board[7]:\n",
    "        return True\n",
    "    else:\n",
    "        return False"
   ]
  },
  {
   "cell_type": "code",
   "execution_count": null,
   "metadata": {},
   "outputs": [],
   "source": [
    "# Reducing the lines\n",
    "def win_check(board, mark):\n",
    "    return ((mark in board[1] and mark in board[2] and mark in board[3]) or\n",
    "            (mark in board[4] and mark in board[5] and mark in board[6]) or\n",
    "            (mark in board[7] and mark in board[8] and mark in board[9]) or\n",
    "            (mark in board[1] and mark in board[4] and mark in board[7]) or\n",
    "            (mark in board[2] and mark in board[5] and mark in board[6]) or\n",
    "            (mark in board[3] and mark in board[6] and mark in board[9]) or\n",
    "            (mark in board[1] and mark in board[5] and mark in board[9]) or\n",
    "            (mark in board[3] and mark in board[5] and mark in board[7]))"
   ]
  },
  {
   "cell_type": "code",
   "execution_count": null,
   "metadata": {},
   "outputs": [],
   "source": [
    "import random\n",
    "\n",
    "#Coin flip to decide who goes first\n",
    "def choose_first():\n",
    "    flip = random.randint(0,1)\n",
    "    if flip == 0:\n",
    "        return 'Player 1'\n",
    "    else:\n",
    "        return 'Player 2'"
   ]
  },
  {
   "cell_type": "code",
   "execution_count": null,
   "metadata": {},
   "outputs": [],
   "source": [
    "# Function to check a position in the board is available\n",
    "def space_check(board, position):\n",
    "    if board[position] == 'X':\n",
    "        return False\n",
    "    elif board[position] == 'O':\n",
    "        return False\n",
    "    else:\n",
    "        return True"
   ]
  },
  {
   "cell_type": "code",
   "execution_count": null,
   "metadata": {},
   "outputs": [],
   "source": [
    "#Reducing the lines\n",
    "def space_check(board, position):\n",
    "    return board[position] == ' '"
   ]
  },
  {
   "cell_type": "code",
   "execution_count": null,
   "metadata": {},
   "outputs": [],
   "source": [
    "# Fuction to check if board is full or not (True if full)\n",
    "def full_board_check(board):\n",
    "    if ' ' in board[0::]:\n",
    "        return False\n",
    "    else:\n",
    "        return True"
   ]
  },
  {
   "cell_type": "code",
   "execution_count": null,
   "metadata": {},
   "outputs": [],
   "source": [
    "#Reducing the lines\n",
    "def full_board_check(board):\n",
    "    return not ' ' in board [0::]"
   ]
  },
  {
   "cell_type": "code",
   "execution_count": null,
   "metadata": {},
   "outputs": [],
   "source": [
    "def full_board_check(board):\n",
    "    for i in range(1,10):\n",
    "        if space_check(board,i):\n",
    "            return False\n",
    "    #Board is full than\n",
    "    return True"
   ]
  },
  {
   "cell_type": "code",
   "execution_count": null,
   "metadata": {},
   "outputs": [],
   "source": [
    "# Function to ask where the marker will be placed\n",
    "def player_choice(board):\n",
    "    position = int(input(\"Choose your next position on the board (1-9): \"))\n",
    "    x = space_check(board,position)\n",
    "    if x == True:\n",
    "        return position"
   ]
  },
  {
   "cell_type": "code",
   "execution_count": null,
   "metadata": {},
   "outputs": [],
   "source": [
    "def player_choice(board):\n",
    "    position = 0\n",
    "    while position not in [1,2,3,4,5,6,7,8,9] or not space_check(board,position):\n",
    "        position = int(input(\"Choose your next position on the board: \"))\n",
    "    return position"
   ]
  },
  {
   "cell_type": "code",
   "execution_count": null,
   "metadata": {},
   "outputs": [],
   "source": [
    "def replay():\n",
    "    choice = input(\"Play again? Enter Yes or No\")\n",
    "    return choice == 'Yes'"
   ]
  },
  {
   "cell_type": "code",
   "execution_count": null,
   "metadata": {},
   "outputs": [],
   "source": [
    "#Not using:\n",
    "# > Not using the chose_first() coin flip, to see who goes first\n",
    "\n",
    "print('Welcome to Tic Tac Toe!')\n",
    "\n",
    "while True:\n",
    "    \n",
    "    starting_board = ['0',' ',' ',' ',' ',' ',' ',' ',' ',' ']\n",
    "    start = full_board_check(starting_board)\n",
    "    player1_marker, player2_marker = player_input()\n",
    "    display_board(starting_board)\n",
    "\n",
    "    while start == False:\n",
    "        position = player_choice(starting_board)\n",
    "        place_marker(starting_board,player1_marker,position)\n",
    "        display_board(starting_board)\n",
    "        player1_win = win_check(starting_board,player1_marker)\n",
    "        checking_board1 = full_board_check(starting_board)\n",
    "        if checking_board1 == True:\n",
    "            print('\\nTie ¯\\_(ツ)_/¯')\n",
    "            break\n",
    "        if player1_win == True:\n",
    "            print(f'\\nCongratulations Player 1! You were playing as {player1_marker}')\n",
    "            break\n",
    "\n",
    "        position = player_choice(starting_board)\n",
    "        place_marker(starting_board,player2_marker,position)\n",
    "        display_board(starting_board)\n",
    "        player2_win = win_check(starting_board,player2_marker)\n",
    "        checking_board2 = full_board_check(starting_board)\n",
    "        if checking_board1 == True:\n",
    "            print('\\nTie ¯\\_(ツ)_/¯')\n",
    "            break\n",
    "        if player2_win == True:\n",
    "            print(f'\\nCongratulations Player 2! You were playing as {player2_marker}')\n",
    "            break\n",
    "    if not replay():\n",
    "        break"
   ]
  },
  {
   "cell_type": "code",
   "execution_count": null,
   "metadata": {},
   "outputs": [],
   "source": [
    "# WHILE LOOP TO KEEP RUNNING THE GAME\n",
    "print('Welcome to Tic Tac Toe!')\n",
    "\n",
    "while True:\n",
    "    # Play the game\n",
    "    \n",
    "    ## Set everything up (Board > Who first > Markers)\n",
    "    the_board = ['0',' ',' ',' ',' ',' ',' ',' ',' ',' ']\n",
    "    player1_marker,player2_marker = player_input()\n",
    "    \n",
    "    turn = choose_first()\n",
    "    print(f'{turn} will go first')\n",
    "    \n",
    "    play_game = input('Ready to play? Y or N')\n",
    "    if play_game == 'Y':\n",
    "        game_on = True\n",
    "    else:\n",
    "        game_on = False\n",
    "    \n",
    "    ## Gameplay\n",
    "    \n",
    "    while game_on:\n",
    "        if turn == 'Player 1':\n",
    "            ### Player one turn\n",
    "            \n",
    "            # Show the board\n",
    "            display_board(the_board)\n",
    "            # Choose a position\n",
    "            position = player_choice(the_board)\n",
    "            # Place the marker on position\n",
    "            place_marker(the_board,player1_marker,position)\n",
    "            \n",
    "            # Check if win\n",
    "            if win_check(the_board,player1_marker):\n",
    "                display_board(the_board)\n",
    "                print('PLAYER 1 HAS WON!!')\n",
    "                game_on = False\n",
    "                \n",
    "            else:\n",
    "                # Check if tie\n",
    "                if full_board_check(the_board):\n",
    "                    display_board(the_board)\n",
    "                    print('TIE GAME!')\n",
    "                    game_on = False\n",
    "                else:\n",
    "                    #No tie and no win? Then next players turn\n",
    "                    turn = 'Player 2'\n",
    "        else:\n",
    "            ### Player two turn\n",
    "            \n",
    "            # Show the board\n",
    "            display_board(the_board)\n",
    "            # Choose a position\n",
    "            position = player_choice(the_board)\n",
    "            # Place the marker on position\n",
    "            place_marker(the_board,player2_marker,position)\n",
    "            \n",
    "            # Check if win\n",
    "            if win_check(the_board,player2_marker):\n",
    "                display_board(the_board)\n",
    "                print('PLAYER 2 HAS WON!!')\n",
    "                game_on = False\n",
    "                \n",
    "            else:\n",
    "                # Check if tie\n",
    "                if full_board_check(the_board):\n",
    "                    display_board(the_board)\n",
    "                    print('TIE GAME!')\n",
    "                    game_on = False\n",
    "                else:\n",
    "                    #No tie and no win? Then next players turn\n",
    "                    turn = 'Player 1'\n",
    "    \n",
    "    if not replay():\n",
    "        break\n",
    "# BREAK OUT OF THE WHILE LOOP ON replay()"
   ]
  }
 ],
 "metadata": {
  "kernelspec": {
   "display_name": "Python 3",
   "language": "python",
   "name": "python3"
  },
  "language_info": {
   "codemirror_mode": {
    "name": "ipython",
    "version": 3
   },
   "file_extension": ".py",
   "mimetype": "text/x-python",
   "name": "python",
   "nbconvert_exporter": "python",
   "pygments_lexer": "ipython3",
   "version": "3.7.4"
  }
 },
 "nbformat": 4,
 "nbformat_minor": 1
}
